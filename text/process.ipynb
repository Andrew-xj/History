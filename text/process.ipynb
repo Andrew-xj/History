{
 "cells": [
  {
   "cell_type": "code",
   "execution_count": 42,
   "metadata": {
    "ExecuteTime": {
     "end_time": "2021-04-15T11:37:29.259576Z",
     "start_time": "2021-04-15T11:37:29.220671Z"
    }
   },
   "outputs": [],
   "source": [
    "f = open('..\\\\文本.txt', 'r', encoding=u'utf-8')"
   ]
  },
  {
   "cell_type": "code",
   "execution_count": 43,
   "metadata": {
    "ExecuteTime": {
     "end_time": "2021-04-15T11:37:29.485728Z",
     "start_time": "2021-04-15T11:37:29.437853Z"
    }
   },
   "outputs": [],
   "source": [
    "text = list(''.join(f.read().split('\\n')))\n",
    "\n",
    "f.close()"
   ]
  },
  {
   "cell_type": "code",
   "execution_count": 44,
   "metadata": {
    "ExecuteTime": {
     "end_time": "2021-04-15T11:37:29.982886Z",
     "start_time": "2021-04-15T11:37:29.972880Z"
    }
   },
   "outputs": [
    {
     "data": {
      "text/plain": [
       "29235"
      ]
     },
     "execution_count": 44,
     "metadata": {},
     "output_type": "execute_result"
    }
   ],
   "source": [
    "len(text)"
   ]
  },
  {
   "cell_type": "code",
   "execution_count": 45,
   "metadata": {
    "ExecuteTime": {
     "end_time": "2021-04-15T11:37:31.073381Z",
     "start_time": "2021-04-15T11:37:31.061374Z"
    }
   },
   "outputs": [
    {
     "data": {
      "text/plain": [
       "1395"
      ]
     },
     "execution_count": 45,
     "metadata": {},
     "output_type": "execute_result"
    }
   ],
   "source": [
    "text_new = ''.join(list(set(text)))\n",
    "\n",
    "len(text_new)"
   ]
  },
  {
   "cell_type": "code",
   "execution_count": 46,
   "metadata": {
    "ExecuteTime": {
     "end_time": "2021-04-15T11:37:32.001013Z",
     "start_time": "2021-04-15T11:37:31.986050Z"
    }
   },
   "outputs": [],
   "source": [
    "for char in text:\n",
    "    if char not in text_new:\n",
    "        print(char)"
   ]
  },
  {
   "cell_type": "code",
   "execution_count": 47,
   "metadata": {
    "ExecuteTime": {
     "end_time": "2021-04-15T11:37:33.700789Z",
     "start_time": "2021-04-15T11:37:33.586097Z"
    }
   },
   "outputs": [
    {
     "data": {
      "text/plain": [
       "1395"
      ]
     },
     "execution_count": 47,
     "metadata": {},
     "output_type": "execute_result"
    }
   ],
   "source": [
    "with open('.\\\\result.txt', 'w', encoding='utf-8') as f:\n",
    "    f.write(text_new)"
   ]
  },
  {
   "cell_type": "code",
   "execution_count": null,
   "metadata": {},
   "outputs": [],
   "source": []
  }
 ],
 "metadata": {
  "kernelspec": {
   "display_name": "Python 3",
   "language": "python",
   "name": "python3"
  },
  "language_info": {
   "codemirror_mode": {
    "name": "ipython",
    "version": 3
   },
   "file_extension": ".py",
   "mimetype": "text/x-python",
   "name": "python",
   "nbconvert_exporter": "python",
   "pygments_lexer": "ipython3",
   "version": "3.7.9"
  },
  "toc": {
   "base_numbering": 1,
   "nav_menu": {},
   "number_sections": true,
   "sideBar": true,
   "skip_h1_title": false,
   "title_cell": "Table of Contents",
   "title_sidebar": "Contents",
   "toc_cell": false,
   "toc_position": {},
   "toc_section_display": true,
   "toc_window_display": false
  }
 },
 "nbformat": 4,
 "nbformat_minor": 4
}
